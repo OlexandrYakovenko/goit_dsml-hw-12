{
  "nbformat": 4,
  "nbformat_minor": 0,
  "metadata": {
    "colab": {
      "provenance": []
    },
    "kernelspec": {
      "name": "python3",
      "display_name": "Python 3"
    },
    "language_info": {
      "name": "python"
    }
  },
  "cells": [
    {
      "cell_type": "markdown",
      "source": [
        "## Завдання"
      ],
      "metadata": {
        "id": "kCbxTxaUu6ZE"
      }
    },
    {
      "cell_type": "markdown",
      "source": [
        "В якості домашнього завдання вам пропонується створити нейронну мережу за допомогою механізмів Keras, яка буде класифікувати товари із датасету fasion_mnist.\n",
        "\n",
        "\n",
        "\n",
        "Вам належить запропонувати свою власну архітектуру мережі. Точність найнаївнішої, але адекватної нейромережі становить приблизно 91%. Точність вашої моделі повинна бути не нижчою за цей показник. Щоб досягти таких значень вам знадобиться поекспериментувати з гіперпараметрами мережі:\n",
        "\n",
        "\n",
        "\n",
        "кількість шарів;\n",
        "кількість нейронів;\n",
        "функції активації;\n",
        "кількість епох;\n",
        "розмір батчу;\n",
        "вибір оптимізатора;\n",
        "різні техніки регуляризації і т.д.\n",
        "\n",
        "\n",
        "Використайте вивчені техніки виявлення проблем навчання нейронної мережі, і потім поекспериментуйте.\n",
        "\n",
        "\n",
        "\n",
        "Рішення оформіть у вигляді окремого ноутбука."
      ],
      "metadata": {
        "id": "DwY_8u3Uu8yB"
      }
    },
    {
      "cell_type": "markdown",
      "source": [
        "## Імпорт необхідних бібліотек"
      ],
      "metadata": {
        "id": "pJlAcqgOwX7d"
      }
    },
    {
      "cell_type": "code",
      "execution_count": 1,
      "metadata": {
        "id": "WkAnQ6N8u1HA"
      },
      "outputs": [],
      "source": [
        "import tensorflow as tf\n",
        "import matplotlib.pyplot as plt\n",
        "from sklearn.model_selection import train_test_split\n",
        "import numpy as np\n",
        "from sklearn.metrics import classification_report\n",
        "\n",
        "from tensorflow.keras.datasets import fashion_mnist\n",
        "\n",
        "from tensorflow.keras.models import Sequential\n",
        "from tensorflow.keras.layers import Dense, Flatten, Conv2D, MaxPooling2D, Dropout\n",
        "from tensorflow.keras.optimizers import Adam\n",
        "from tensorflow.keras.utils import to_categorical\n",
        "from tensorflow.keras.regularizers import l2\n",
        "from tensorflow.keras.optimizers import RMSprop, Nadam\n",
        "\n",
        "from tensorflow.keras.layers import BatchNormalization\n",
        "\n",
        "# tf.nn.max_pool2d"
      ]
    },
    {
      "cell_type": "markdown",
      "source": [
        "## Завантаження і підготовка даних"
      ],
      "metadata": {
        "id": "Qa7nCdSFwe4l"
      }
    },
    {
      "cell_type": "code",
      "source": [
        "# Завантаження даних\n",
        "(train_images, train_labels), (test_images, test_labels) = fashion_mnist.load_data()\n",
        "\n"
      ],
      "metadata": {
        "id": "XbOaaZNYwhgl"
      },
      "execution_count": 8,
      "outputs": []
    },
    {
      "cell_type": "code",
      "source": [
        "# Перевірка форми даних\n",
        "print(\"Train images shape:\", train_images.shape)\n",
        "print(\"Train labels shape:\", train_labels.shape)\n",
        "print(\"Test images shape:\", test_images.shape)\n",
        "print(\"Test labels shape:\", test_labels.shape)"
      ],
      "metadata": {
        "colab": {
          "base_uri": "https://localhost:8080/"
        },
        "id": "EDtlIf5J5eEe",
        "outputId": "ccfa57c1-3068-40f1-d4e7-4b52f169e594"
      },
      "execution_count": 9,
      "outputs": [
        {
          "output_type": "stream",
          "name": "stdout",
          "text": [
            "Train images shape: (60000, 28, 28)\n",
            "Train labels shape: (60000,)\n",
            "Test images shape: (10000, 28, 28)\n",
            "Test labels shape: (10000,)\n"
          ]
        }
      ]
    },
    {
      "cell_type": "code",
      "source": [
        "# Візуалізація першого зображення з тренувального датасету\n",
        "plt.figure()\n",
        "plt.imshow(train_images[0], cmap='gray')\n",
        "plt.colorbar()\n",
        "plt.grid(False)\n",
        "plt.show()"
      ],
      "metadata": {
        "colab": {
          "base_uri": "https://localhost:8080/",
          "height": 430
        },
        "id": "7jSUK40g5zWI",
        "outputId": "1cb96e37-d66b-414b-91d6-4efe8b38ea0e"
      },
      "execution_count": 10,
      "outputs": [
        {
          "output_type": "display_data",
          "data": {
            "text/plain": [
              "<Figure size 640x480 with 2 Axes>"
            ],
            "image/png": "[encoded data removed]"
          },
          "metadata": {}
        }
      ]
    },
    {
      "cell_type": "code",
      "source": [
        "# Нормалізація даних\n",
        "train_images  = train_images  / 255.0\n",
        "test_images  = test_images  / 255.0\n"
      ],
      "metadata": {
        "id": "kQiyvYoO4F7e"
      },
      "execution_count": 11,
      "outputs": []
    },
    {
      "cell_type": "code",
      "source": [
        "# Зміна форми даних для відповідності вхідному формату Conv2D\n",
        "train_images = train_images.reshape(-1, 28, 28, 1)\n",
        "test_images = test_images.reshape(-1, 28, 28, 1)"
      ],
      "metadata": {
        "id": "99HMHRLW6IQi"
      },
      "execution_count": 12,
      "outputs": []
    },
    {
      "cell_type": "code",
      "source": [
        "# Розділення тренувального набору на тренувальний та валідаційний\n",
        "train_images, val_images, train_labels, val_labels = train_test_split(\n",
        "    train_images, train_labels, test_size=0.2, random_state=42)"
      ],
      "metadata": {
        "id": "sBlHP11L6X1J"
      },
      "execution_count": 13,
      "outputs": []
    },
    {
      "cell_type": "code",
      "source": [
        "# One-hot encoding міток\n",
        "train_labels = to_categorical(train_labels, 10)\n",
        "test_labels = to_categorical(test_labels, 10)\n",
        "val_labels = to_categorical(val_labels, num_classes=10)"
      ],
      "metadata": {
        "id": "C_pnsOlz6Lf6"
      },
      "execution_count": 14,
      "outputs": []
    },
    {
      "cell_type": "code",
      "source": [
        "# Перевірка форм даних після перетворення\n",
        "print(\"Train images shape:\", train_images.shape)\n",
        "print(\"Validation images shape:\", val_images.shape)\n",
        "print(\"Test images shape:\", test_images.shape)\n",
        "print(\"Train labels shape:\", train_labels.shape)\n",
        "print(\"Validation labels shape:\", val_labels.shape)\n",
        "print(\"Test labels shape:\", test_labels.shape)"
      ],
      "metadata": {
        "colab": {
          "base_uri": "https://localhost:8080/"
        },
        "id": "mlAEtHNl8SHb",
        "outputId": "992662ff-1f82-483a-a7d8-af9d5182733a"
      },
      "execution_count": 15,
      "outputs": [
        {
          "output_type": "stream",
          "name": "stdout",
          "text": [
            "Train images shape: (48000, 28, 28, 1)\n",
            "Validation images shape: (12000, 28, 28, 1)\n",
            "Test images shape: (10000, 28, 28, 1)\n",
            "Train labels shape: (48000, 10)\n",
            "Validation labels shape: (12000, 10)\n",
            "Test labels shape: (10000, 10)\n"
          ]
        }
      ]
    },
    {
      "cell_type": "markdown",
      "source": [
        "## Модель з Batch Normalization"
      ],
      "metadata": {
        "id": "QBRZHIu6FU8A"
      }
    },
    {
      "cell_type": "code",
      "source": [
        "# Створення моделі\n",
        "model = Sequential()\n",
        "\n",
        "# Перший згортковий шар\n",
        "# model.add(Conv2D(32, kernel_size=(3, 3), activation='relu', input_shape=(28, 28, 1), kernel_regularizer=l2(0.001)))\n",
        "model.add(Conv2D(32, kernel_size=(3, 3), activation='relu', input_shape=(28, 28, 1)))\n",
        "# model.add(BatchNormalization())\n",
        "model.add(MaxPooling2D(pool_size=(2, 2)))\n",
        "# model.add(Dropout(0.25))\n",
        "\n",
        "# Другий згортковий шар\n",
        "# model.add(Conv2D(64, kernel_size=(3, 3), activation='relu', kernel_regularizer=l2(0.001)))\n",
        "model.add(Conv2D(64, kernel_size=(3, 3), activation='relu'))\n",
        "# model.add(BatchNormalization())\n",
        "model.add(MaxPooling2D(pool_size=(2, 2)))\n",
        "# model.add(Dropout(0.25))\n",
        "\n",
        "# Третій згортковий шар\n",
        "#model.add(Conv2D(128, kernel_size=(3, 3), activation='relu', kernel_regularizer=l2(0.001)))\n",
        "# model.add(Conv2D(128, kernel_size=(3, 3), activation='relu'))\n",
        "model.add(Conv2D(64, kernel_size=(3, 3), activation='relu'))\n",
        "model.add(tf.keras.layers.GlobalMaxPooling2D()) #GlobalMaxPooling2D()\n",
        "model.add(BatchNormalization())\n",
        "# model.add(MaxPooling2D(pool_size=(2, 2)))\n",
        "# model.add(Dropout(0.25))\n",
        "\n",
        "# Повнозв'язний шар\n",
        "# model.add(Flatten())\n",
        "model.add(Dense(64, activation='relu'))\n",
        "# model.add(Dense(256, activation='relu', kernel_regularizer=l2(0.001)))\n",
        "# model.add(Dense(256, activation='relu'))\n",
        "# model.add(Dropout(0.5))\n",
        "# # model.add(Dense(128, activation='relu', kernel_regularizer=l2(0.001)))\n",
        "# model.add(Dense(128, activation='relu'))\n",
        "# model.add(Dropout(0.5))\n",
        "\n",
        "# Вихідний шар\n",
        "model.add(Dense(10, activation='softmax'))\n",
        "\n",
        "# Компіляція моделі\n",
        "#model.compile(optimizer=Adam(), loss='categorical_crossentropy', metrics=['accuracy'])\n",
        "# model.compile(optimizer=RMSprop(), loss='categorical_crossentropy', metrics=['accuracy'])\n",
        "# model.compile(optimizer=Nadam(), loss='categorical_crossentropy', metrics=['accuracy'])\n"
      ],
      "metadata": {
        "id": "nXw3nAzIwnIf"
      },
      "execution_count": 21,
      "outputs": []
    },
    {
      "cell_type": "code",
      "source": [
        "# Компіляція моделі\n",
        "model.compile(optimizer=Adam(), loss='categorical_crossentropy', metrics=['accuracy'])"
      ],
      "metadata": {
        "id": "1xUTHI1790B6"
      },
      "execution_count": 22,
      "outputs": []
    },
    {
      "cell_type": "code",
      "source": [
        "model.summary()"
      ],
      "metadata": {
        "colab": {
          "base_uri": "https://localhost:8080/"
        },
        "id": "7xy-udZ7-ACp",
        "outputId": "2afabf17-60f3-4697-c2ee-32d732c5cabf"
      },
      "execution_count": 23,
      "outputs": [
        {
          "output_type": "stream",
          "name": "stdout",
          "text": [
            "Model: \"sequential_3\"\n",
            "_________________________________________________________________\n",
            " Layer (type)                Output Shape              Param #   \n",
            "=================================================================\n",
            " conv2d_9 (Conv2D)           (None, 26, 26, 32)        320       \n",
            "                                                                 \n",
            " max_pooling2d_6 (MaxPoolin  (None, 13, 13, 32)        0         \n",
            " g2D)                                                            \n",
            "                                                                 \n",
            " conv2d_10 (Conv2D)          (None, 11, 11, 64)        18496     \n",
            "                                                                 \n",
            " max_pooling2d_7 (MaxPoolin  (None, 5, 5, 64)          0         \n",
            " g2D)                                                            \n",
            "                                                                 \n",
            " conv2d_11 (Conv2D)          (None, 3, 3, 64)          36928     \n",
            "                                                                 \n",
            " global_max_pooling2d_1 (Gl  (None, 64)                0         \n",
            " obalMaxPooling2D)                                               \n",
            "                                                                 \n",
            " batch_normalization_1 (Bat  (None, 64)                256       \n",
            " chNormalization)                                                \n",
            "                                                                 \n",
            " dense_2 (Dense)             (None, 64)                4160      \n",
            "                                                                 \n",
            " dense_3 (Dense)             (None, 10)                650       \n",
            "                                                                 \n",
            "=================================================================\n",
            "Total params: 60810 (237.54 KB)\n",
            "Trainable params: 60682 (237.04 KB)\n",
            "Non-trainable params: 128 (512.00 Byte)\n",
            "_________________________________________________________________\n"
          ]
        }
      ]
    },
    {
      "cell_type": "markdown",
      "source": [
        "Тренування моделі"
      ],
      "metadata": {
        "id": "mGVS3MIowqgK"
      }
    },
    {
      "cell_type": "code",
      "source": [
        "# Навчання моделі з валідаційним набором\n",
        "model.fit(train_images, train_labels, epochs=15, validation_data=(val_images, val_labels))"
      ],
      "metadata": {
        "colab": {
          "base_uri": "https://localhost:8080/"
        },
        "id": "6tEgn9VU_pHN",
        "outputId": "5973d48f-21a5-40c2-d620-375f8390983a"
      },
      "execution_count": 24,
      "outputs": [
        {
          "output_type": "stream",
          "name": "stdout",
          "text": [
            "Epoch 1/15\n",
            "1500/1500 [==============================] - 64s 41ms/step - loss: 0.4654 - accuracy: 0.8320 - val_loss: 0.3458 - val_accuracy: 0.8725\n",
            "Epoch 2/15\n",
            "1500/1500 [==============================] - 72s 48ms/step - loss: 0.3182 - accuracy: 0.8824 - val_loss: 0.3055 - val_accuracy: 0.8885\n",
            "Epoch 3/15\n",
            "1500/1500 [==============================] - 98s 65ms/step - loss: 0.2745 - accuracy: 0.8973 - val_loss: 0.2888 - val_accuracy: 0.8955\n",
            "Epoch 4/15\n",
            "1500/1500 [==============================] - 91s 61ms/step - loss: 0.2466 - accuracy: 0.9081 - val_loss: 0.3205 - val_accuracy: 0.8827\n",
            "Epoch 5/15\n",
            "1500/1500 [==============================] - 83s 56ms/step - loss: 0.2294 - accuracy: 0.9141 - val_loss: 0.3706 - val_accuracy: 0.8591\n",
            "Epoch 6/15\n",
            "1500/1500 [==============================] - 60s 40ms/step - loss: 0.2079 - accuracy: 0.9230 - val_loss: 0.2591 - val_accuracy: 0.9066\n",
            "Epoch 7/15\n",
            "1500/1500 [==============================] - 57s 38ms/step - loss: 0.1972 - accuracy: 0.9255 - val_loss: 0.3000 - val_accuracy: 0.8961\n",
            "Epoch 8/15\n",
            "1500/1500 [==============================] - 85s 56ms/step - loss: 0.1831 - accuracy: 0.9304 - val_loss: 0.2984 - val_accuracy: 0.8992\n",
            "Epoch 9/15\n",
            "1500/1500 [==============================] - 57s 38ms/step - loss: 0.1715 - accuracy: 0.9355 - val_loss: 0.2744 - val_accuracy: 0.9057\n",
            "Epoch 10/15\n",
            "1500/1500 [==============================] - 55s 37ms/step - loss: 0.1601 - accuracy: 0.9402 - val_loss: 0.2841 - val_accuracy: 0.9075\n",
            "Epoch 11/15\n",
            "1500/1500 [==============================] - 55s 36ms/step - loss: 0.1502 - accuracy: 0.9435 - val_loss: 0.2998 - val_accuracy: 0.9028\n",
            "Epoch 12/15\n",
            "1500/1500 [==============================] - 54s 36ms/step - loss: 0.1407 - accuracy: 0.9466 - val_loss: 0.2957 - val_accuracy: 0.9028\n",
            "Epoch 13/15\n",
            "1500/1500 [==============================] - 59s 39ms/step - loss: 0.1343 - accuracy: 0.9486 - val_loss: 0.2766 - val_accuracy: 0.9112\n",
            "Epoch 14/15\n",
            "1500/1500 [==============================] - 56s 37ms/step - loss: 0.1294 - accuracy: 0.9505 - val_loss: 0.3430 - val_accuracy: 0.8963\n",
            "Epoch 15/15\n",
            "1500/1500 [==============================] - 56s 37ms/step - loss: 0.1190 - accuracy: 0.9555 - val_loss: 0.3414 - val_accuracy: 0.8982\n"
          ]
        },
        {
          "output_type": "execute_result",
          "data": {
            "text/plain": [
              "<keras.src.callbacks.History at 0x79e78d2f3910>"
            ]
          },
          "metadata": {},
          "execution_count": 24
        }
      ]
    },
    {
      "cell_type": "code",
      "source": [
        "# Оцінка моделі на тестових даних\n",
        "test_loss, test_acc = model.evaluate(test_images, test_labels, verbose=2)\n",
        "print('\\nTest accuracy:', test_acc)"
      ],
      "metadata": {
        "colab": {
          "base_uri": "https://localhost:8080/"
        },
        "id": "re1_G1tf_6o_",
        "outputId": "df08a16e-1aff-4b00-c1c7-23dfa666f955"
      },
      "execution_count": 25,
      "outputs": [
        {
          "output_type": "stream",
          "name": "stdout",
          "text": [
            "313/313 - 3s - loss: 0.3770 - accuracy: 0.8937 - 3s/epoch - 9ms/step\n",
            "\n",
            "Test accuracy: 0.8937000036239624\n"
          ]
        }
      ]
    },
    {
      "cell_type": "code",
      "source": [
        "import numpy as np\n",
        "from sklearn.metrics import classification_report\n",
        "\n",
        "# Отримання передбачень для тестових даних\n",
        "predictions = model.predict(test_images)\n",
        "predicted_classes = np.argmax(predictions, axis=1)\n",
        "\n",
        "# Отримання індексу класу для кожного зображення\n",
        "true_classes = np.argmax(test_labels, axis=1)\n",
        "\n",
        "# Генерація classification report\n",
        "report = classification_report(true_classes, predicted_classes)\n",
        "\n",
        "# Вивід результатів\n",
        "print(report)"
      ],
      "metadata": {
        "colab": {
          "base_uri": "https://localhost:8080/"
        },
        "id": "q7eITUM4AABe",
        "outputId": "8f6f118c-dad8-4852-8665-a72b70aa6243"
      },
      "execution_count": 26,
      "outputs": [
        {
          "output_type": "stream",
          "name": "stdout",
          "text": [
            "313/313 [==============================] - 5s 15ms/step\n",
            "              precision    recall  f1-score   support\n",
            "\n",
            "           0       0.85      0.86      0.85      1000\n",
            "           1       0.99      0.98      0.98      1000\n",
            "           2       0.71      0.93      0.80      1000\n",
            "           3       0.89      0.92      0.90      1000\n",
            "           4       0.92      0.72      0.81      1000\n",
            "           5       0.96      0.98      0.97      1000\n",
            "           6       0.80      0.67      0.73      1000\n",
            "           7       0.92      0.99      0.95      1000\n",
            "           8       0.96      0.97      0.97      1000\n",
            "           9       0.99      0.91      0.95      1000\n",
            "\n",
            "    accuracy                           0.89     10000\n",
            "   macro avg       0.90      0.89      0.89     10000\n",
            "weighted avg       0.90      0.89      0.89     10000\n",
            "\n"
          ]
        }
      ]
    },
    {
      "cell_type": "code",
      "source": [
        "# Збереження моделі\n",
        "model.save(\"fashion_mnist_model.keras\")"
      ],
      "metadata": {
        "id": "-IXf0sIQAI-T"
      },
      "execution_count": 27,
      "outputs": []
    },
    {
      "cell_type": "markdown",
      "source": [
        "## Модель з Dropout"
      ],
      "metadata": {
        "id": "8XZ2wB0PFo74"
      }
    },
    {
      "cell_type": "code",
      "source": [
        "model_1 = tf.keras.Sequential([\n",
        "    tf.keras.layers.Conv2D(32, (3, 3), activation='relu', input_shape=(28, 28, 1)),\n",
        "    tf.keras.layers.MaxPooling2D((2, 2)),\n",
        "    tf.keras.layers.Conv2D(64, (3, 3), activation='relu'),\n",
        "    tf.keras.layers.MaxPooling2D((2, 2)),\n",
        "    tf.keras.layers.Conv2D(64, (3, 3), activation='relu'),\n",
        "    tf.keras.layers.GlobalMaxPooling2D(),\n",
        "    tf.keras.layers.Dropout(0.25),\n",
        "    tf.keras.layers.Dense(10, activation='softmax'),\n",
        "])"
      ],
      "metadata": {
        "id": "ZW3dEprYAZWX"
      },
      "execution_count": 28,
      "outputs": []
    },
    {
      "cell_type": "code",
      "source": [
        "model_1.compile(optimizer='adam',\n",
        "              loss='categorical_crossentropy',\n",
        "              metrics=['accuracy'])"
      ],
      "metadata": {
        "id": "eEi3v2XNAd_X"
      },
      "execution_count": 29,
      "outputs": []
    },
    {
      "cell_type": "code",
      "source": [
        "model_1.summary()"
      ],
      "metadata": {
        "colab": {
          "base_uri": "https://localhost:8080/"
        },
        "id": "Yr1PoYQJB6jh",
        "outputId": "3c97ebbe-5ad4-4d5e-c8fb-3cf64aed1735"
      },
      "execution_count": 30,
      "outputs": [
        {
          "output_type": "stream",
          "name": "stdout",
          "text": [
            "Model: \"sequential_4\"\n",
            "_________________________________________________________________\n",
            " Layer (type)                Output Shape              Param #   \n",
            "=================================================================\n",
            " conv2d_12 (Conv2D)          (None, 26, 26, 32)        320       \n",
            "                                                                 \n",
            " max_pooling2d_8 (MaxPoolin  (None, 13, 13, 32)        0         \n",
            " g2D)                                                            \n",
            "                                                                 \n",
            " conv2d_13 (Conv2D)          (None, 11, 11, 64)        18496     \n",
            "                                                                 \n",
            " max_pooling2d_9 (MaxPoolin  (None, 5, 5, 64)          0         \n",
            " g2D)                                                            \n",
            "                                                                 \n",
            " conv2d_14 (Conv2D)          (None, 3, 3, 64)          36928     \n",
            "                                                                 \n",
            " global_max_pooling2d_2 (Gl  (None, 64)                0         \n",
            " obalMaxPooling2D)                                               \n",
            "                                                                 \n",
            " dropout (Dropout)           (None, 64)                0         \n",
            "                                                                 \n",
            " dense_4 (Dense)             (None, 10)                650       \n",
            "                                                                 \n",
            "=================================================================\n",
            "Total params: 56394 (220.29 KB)\n",
            "Trainable params: 56394 (220.29 KB)\n",
            "Non-trainable params: 0 (0.00 Byte)\n",
            "_________________________________________________________________\n"
          ]
        }
      ]
    },
    {
      "cell_type": "code",
      "source": [
        "model_1.fit(train_images, train_labels, epochs=15, validation_data=(val_images, val_labels))\n"
      ],
      "metadata": {
        "colab": {
          "base_uri": "https://localhost:8080/"
        },
        "id": "6Sdhv_7hAkHA",
        "outputId": "bbb819e0-f4b5-4e30-96f9-f14f9b2de919"
      },
      "execution_count": 31,
      "outputs": [
        {
          "output_type": "stream",
          "name": "stdout",
          "text": [
            "Epoch 1/15\n",
            "1500/1500 [==============================] - 56s 37ms/step - loss: 0.6893 - accuracy: 0.7539 - val_loss: 0.4662 - val_accuracy: 0.8292\n",
            "Epoch 2/15\n",
            "1500/1500 [==============================] - 56s 37ms/step - loss: 0.4688 - accuracy: 0.8291 - val_loss: 0.3890 - val_accuracy: 0.8599\n",
            "Epoch 3/15\n",
            "1500/1500 [==============================] - 55s 37ms/step - loss: 0.4075 - accuracy: 0.8524 - val_loss: 0.3545 - val_accuracy: 0.8681\n",
            "Epoch 4/15\n",
            "1500/1500 [==============================] - 57s 38ms/step - loss: 0.3735 - accuracy: 0.8653 - val_loss: 0.3213 - val_accuracy: 0.8824\n",
            "Epoch 5/15\n",
            "1500/1500 [==============================] - 55s 37ms/step - loss: 0.3421 - accuracy: 0.8764 - val_loss: 0.3281 - val_accuracy: 0.8782\n",
            "Epoch 6/15\n",
            "1500/1500 [==============================] - 56s 37ms/step - loss: 0.3209 - accuracy: 0.8822 - val_loss: 0.2961 - val_accuracy: 0.8903\n",
            "Epoch 7/15\n",
            "1500/1500 [==============================] - 77s 51ms/step - loss: 0.3046 - accuracy: 0.8893 - val_loss: 0.2884 - val_accuracy: 0.8913\n",
            "Epoch 8/15\n",
            "1500/1500 [==============================] - 79s 53ms/step - loss: 0.2910 - accuracy: 0.8946 - val_loss: 0.2932 - val_accuracy: 0.8913\n",
            "Epoch 9/15\n",
            "1500/1500 [==============================] - 63s 42ms/step - loss: 0.2795 - accuracy: 0.8975 - val_loss: 0.2718 - val_accuracy: 0.8988\n",
            "Epoch 10/15\n",
            "1500/1500 [==============================] - 81s 54ms/step - loss: 0.2662 - accuracy: 0.9036 - val_loss: 0.2689 - val_accuracy: 0.9012\n",
            "Epoch 11/15\n",
            "1500/1500 [==============================] - 72s 48ms/step - loss: 0.2589 - accuracy: 0.9064 - val_loss: 0.2735 - val_accuracy: 0.9017\n",
            "Epoch 12/15\n",
            "1500/1500 [==============================] - 69s 46ms/step - loss: 0.2477 - accuracy: 0.9087 - val_loss: 0.2701 - val_accuracy: 0.9048\n",
            "Epoch 13/15\n",
            "1500/1500 [==============================] - 56s 37ms/step - loss: 0.2386 - accuracy: 0.9128 - val_loss: 0.2716 - val_accuracy: 0.9013\n",
            "Epoch 14/15\n",
            "1500/1500 [==============================] - 56s 38ms/step - loss: 0.2355 - accuracy: 0.9132 - val_loss: 0.2620 - val_accuracy: 0.9038\n",
            "Epoch 15/15\n",
            "1500/1500 [==============================] - 56s 37ms/step - loss: 0.2242 - accuracy: 0.9173 - val_loss: 0.2610 - val_accuracy: 0.9061\n"
          ]
        },
        {
          "output_type": "execute_result",
          "data": {
            "text/plain": [
              "<keras.src.callbacks.History at 0x79e78e706e30>"
            ]
          },
          "metadata": {},
          "execution_count": 31
        }
      ]
    },
    {
      "cell_type": "code",
      "source": [
        "# Отримання передбачень для навчальних та тестових даних\n",
        "test_predictions = model_1.predict(test_images)\n",
        "test_predicted_classes = np.argmax(test_predictions, axis=1)\n",
        "test_true_classes = np.argmax(test_labels, axis=1)\n",
        "test_report = classification_report(test_true_classes, test_predicted_classes)\n",
        "print (test_report)"
      ],
      "metadata": {
        "colab": {
          "base_uri": "https://localhost:8080/"
        },
        "id": "iKvQ3zm4AnEr",
        "outputId": "7f06678f-3646-4aa7-8ddc-729814dc11fb"
      },
      "execution_count": 32,
      "outputs": [
        {
          "output_type": "stream",
          "name": "stdout",
          "text": [
            "313/313 [==============================] - 6s 19ms/step\n",
            "              precision    recall  f1-score   support\n",
            "\n",
            "           0       0.83      0.86      0.85      1000\n",
            "           1       0.99      0.98      0.99      1000\n",
            "           2       0.79      0.90      0.84      1000\n",
            "           3       0.92      0.89      0.90      1000\n",
            "           4       0.84      0.84      0.84      1000\n",
            "           5       0.97      0.98      0.98      1000\n",
            "           6       0.75      0.67      0.71      1000\n",
            "           7       0.94      0.98      0.96      1000\n",
            "           8       0.99      0.97      0.98      1000\n",
            "           9       0.98      0.95      0.96      1000\n",
            "\n",
            "    accuracy                           0.90     10000\n",
            "   macro avg       0.90      0.90      0.90     10000\n",
            "weighted avg       0.90      0.90      0.90     10000\n",
            "\n"
          ]
        }
      ]
    },
    {
      "cell_type": "code",
      "source": [
        "# Збереження моделі\n",
        "model.save(\"fashion_mnist_model_1.keras\")"
      ],
      "metadata": {
        "id": "pPwjbimdAnRW"
      },
      "execution_count": 33,
      "outputs": []
    },
    {
      "cell_type": "markdown",
      "source": [
        "## Модель тільки з використанням випрямного шару та внутрішніх шарів"
      ],
      "metadata": {
        "id": "kyS8ZZzOF0MN"
      }
    },
    {
      "cell_type": "code",
      "source": [
        "# Побудова моделі нейронної мережі\n",
        "model_2 = tf.keras.Sequential([\n",
        "    tf.keras.layers.Flatten(input_shape=(28, 28)),\n",
        "    tf.keras.layers.Dense(128, activation='relu'),\n",
        "    tf.keras.layers.Dense(10, activation='softmax')\n",
        "])"
      ],
      "metadata": {
        "id": "VP-mAFBoAtw7"
      },
      "execution_count": 34,
      "outputs": []
    },
    {
      "cell_type": "code",
      "source": [
        "model_2.compile(optimizer='adam',\n",
        "              loss='categorical_crossentropy',\n",
        "              metrics=['accuracy'])"
      ],
      "metadata": {
        "id": "hp8UW77qAvui"
      },
      "execution_count": 35,
      "outputs": []
    },
    {
      "cell_type": "code",
      "source": [
        "model_2.summary()"
      ],
      "metadata": {
        "colab": {
          "base_uri": "https://localhost:8080/"
        },
        "id": "nqxbZ2ffB-Tw",
        "outputId": "cd703da8-75a4-4e0b-b743-6b0edd4badd5"
      },
      "execution_count": 36,
      "outputs": [
        {
          "output_type": "stream",
          "name": "stdout",
          "text": [
            "Model: \"sequential_5\"\n",
            "_________________________________________________________________\n",
            " Layer (type)                Output Shape              Param #   \n",
            "=================================================================\n",
            " flatten_1 (Flatten)         (None, 784)               0         \n",
            "                                                                 \n",
            " dense_5 (Dense)             (None, 128)               100480    \n",
            "                                                                 \n",
            " dense_6 (Dense)             (None, 10)                1290      \n",
            "                                                                 \n",
            "=================================================================\n",
            "Total params: 101770 (397.54 KB)\n",
            "Trainable params: 101770 (397.54 KB)\n",
            "Non-trainable params: 0 (0.00 Byte)\n",
            "_________________________________________________________________\n"
          ]
        }
      ]
    },
    {
      "cell_type": "code",
      "source": [
        "model_2.fit(train_images, train_labels, epochs=15, validation_data=(val_images, val_labels))\n",
        ""
      ],
      "metadata": {
        "colab": {
          "base_uri": "https://localhost:8080/"
        },
        "id": "dLEqAXGIAx8t",
        "outputId": "80be33a3-6839-4dfd-c510-e2c9070642eb"
      },
      "execution_count": 37,
      "outputs": [
        {
          "output_type": "stream",
          "name": "stdout",
          "text": [
            "Epoch 1/15\n",
            "1500/1500 [==============================] - 10s 6ms/step - loss: 0.5180 - accuracy: 0.8160 - val_loss: 0.4174 - val_accuracy: 0.8493\n",
            "Epoch 2/15\n",
            "1500/1500 [==============================] - 6s 4ms/step - loss: 0.3889 - accuracy: 0.8604 - val_loss: 0.3724 - val_accuracy: 0.8663\n",
            "Epoch 3/15\n",
            "1500/1500 [==============================] - 10s 7ms/step - loss: 0.3477 - accuracy: 0.8732 - val_loss: 0.3588 - val_accuracy: 0.8678\n",
            "Epoch 4/15\n",
            "1500/1500 [==============================] - 6s 4ms/step - loss: 0.3179 - accuracy: 0.8823 - val_loss: 0.3501 - val_accuracy: 0.8744\n",
            "Epoch 5/15\n",
            "1500/1500 [==============================] - 8s 5ms/step - loss: 0.3005 - accuracy: 0.8904 - val_loss: 0.3553 - val_accuracy: 0.8692\n",
            "Epoch 6/15\n",
            "1500/1500 [==============================] - 6s 4ms/step - loss: 0.2834 - accuracy: 0.8957 - val_loss: 0.3283 - val_accuracy: 0.8822\n",
            "Epoch 7/15\n",
            "1500/1500 [==============================] - 8s 5ms/step - loss: 0.2701 - accuracy: 0.8990 - val_loss: 0.3290 - val_accuracy: 0.8798\n",
            "Epoch 8/15\n",
            "1500/1500 [==============================] - 6s 4ms/step - loss: 0.2583 - accuracy: 0.9046 - val_loss: 0.3259 - val_accuracy: 0.8839\n",
            "Epoch 9/15\n",
            "1500/1500 [==============================] - 8s 6ms/step - loss: 0.2488 - accuracy: 0.9080 - val_loss: 0.3343 - val_accuracy: 0.8806\n",
            "Epoch 10/15\n",
            "1500/1500 [==============================] - 6s 4ms/step - loss: 0.2403 - accuracy: 0.9114 - val_loss: 0.3064 - val_accuracy: 0.8909\n",
            "Epoch 11/15\n",
            "1500/1500 [==============================] - 8s 5ms/step - loss: 0.2306 - accuracy: 0.9135 - val_loss: 0.3249 - val_accuracy: 0.8863\n",
            "Epoch 12/15\n",
            "1500/1500 [==============================] - 6s 4ms/step - loss: 0.2217 - accuracy: 0.9165 - val_loss: 0.3250 - val_accuracy: 0.8882\n",
            "Epoch 13/15\n",
            "1500/1500 [==============================] - 8s 5ms/step - loss: 0.2149 - accuracy: 0.9203 - val_loss: 0.3295 - val_accuracy: 0.8872\n",
            "Epoch 14/15\n",
            "1500/1500 [==============================] - 6s 4ms/step - loss: 0.2089 - accuracy: 0.9211 - val_loss: 0.3298 - val_accuracy: 0.8851\n",
            "Epoch 15/15\n",
            "1500/1500 [==============================] - 8s 5ms/step - loss: 0.2015 - accuracy: 0.9247 - val_loss: 0.3523 - val_accuracy: 0.8810\n"
          ]
        },
        {
          "output_type": "execute_result",
          "data": {
            "text/plain": [
              "<keras.src.callbacks.History at 0x79e78e4eb5b0>"
            ]
          },
          "metadata": {},
          "execution_count": 37
        }
      ]
    },
    {
      "cell_type": "code",
      "source": [
        "\n",
        "test_predictions = model_2.predict(test_images)\n",
        "test_predicted_classes = np.argmax(test_predictions, axis=1)\n",
        "test_true_classes = np.argmax(test_labels, axis=1)\n",
        "test_report = classification_report(test_true_classes, test_predicted_classes)\n",
        "print (test_report)"
      ],
      "metadata": {
        "colab": {
          "base_uri": "https://localhost:8080/"
        },
        "id": "nYGORhP2A0px",
        "outputId": "2b6e24bb-f7ff-4c21-bdbb-930ca0478335"
      },
      "execution_count": 38,
      "outputs": [
        {
          "output_type": "stream",
          "name": "stdout",
          "text": [
            "313/313 [==============================] - 1s 4ms/step\n",
            "              precision    recall  f1-score   support\n",
            "\n",
            "           0       0.90      0.74      0.81      1000\n",
            "           1       1.00      0.96      0.98      1000\n",
            "           2       0.80      0.78      0.79      1000\n",
            "           3       0.82      0.94      0.88      1000\n",
            "           4       0.87      0.67      0.76      1000\n",
            "           5       0.98      0.96      0.97      1000\n",
            "           6       0.62      0.81      0.70      1000\n",
            "           7       0.94      0.96      0.95      1000\n",
            "           8       0.98      0.96      0.97      1000\n",
            "           9       0.96      0.96      0.96      1000\n",
            "\n",
            "    accuracy                           0.88     10000\n",
            "   macro avg       0.88      0.88      0.88     10000\n",
            "weighted avg       0.88      0.88      0.88     10000\n",
            "\n"
          ]
        }
      ]
    },
    {
      "cell_type": "code",
      "source": [
        "\n",
        "# Збереження моделі\n",
        "model.save(\"fashion_mnist_model_2.keras\")"
      ],
      "metadata": {
        "id": "22xeqjdyA3Ex"
      },
      "execution_count": 39,
      "outputs": []
    },
    {
      "cell_type": "markdown",
      "source": [
        "## Модель з оптимізатором RMSprop"
      ],
      "metadata": {
        "id": "dtIvdbCqGSDe"
      }
    },
    {
      "cell_type": "code",
      "source": [
        "\n",
        "# Побудова моделі нейронної мережі\n",
        "model_3 = tf.keras.Sequential([\n",
        "    tf.keras.layers.Flatten(input_shape=(28, 28)),\n",
        "    tf.keras.layers.Dense(128, activation='relu'),\n",
        "    tf.keras.layers.Dense(10, activation='softmax')\n",
        "])"
      ],
      "metadata": {
        "id": "8R8hkhWHA-RB"
      },
      "execution_count": 40,
      "outputs": []
    },
    {
      "cell_type": "code",
      "source": [
        "model_3.compile(optimizer='RMSprop',\n",
        "              loss='categorical_crossentropy',\n",
        "              metrics=['accuracy'])"
      ],
      "metadata": {
        "id": "qxIT-p0BA-Zg"
      },
      "execution_count": 41,
      "outputs": []
    },
    {
      "cell_type": "code",
      "source": [
        "model_3.summary()"
      ],
      "metadata": {
        "colab": {
          "base_uri": "https://localhost:8080/"
        },
        "id": "EHZslaF1CBhV",
        "outputId": "62fce011-a949-441c-d564-33397eb0ac79"
      },
      "execution_count": 42,
      "outputs": [
        {
          "output_type": "stream",
          "name": "stdout",
          "text": [
            "Model: \"sequential_6\"\n",
            "_________________________________________________________________\n",
            " Layer (type)                Output Shape              Param #   \n",
            "=================================================================\n",
            " flatten_2 (Flatten)         (None, 784)               0         \n",
            "                                                                 \n",
            " dense_7 (Dense)             (None, 128)               100480    \n",
            "                                                                 \n",
            " dense_8 (Dense)             (None, 10)                1290      \n",
            "                                                                 \n",
            "=================================================================\n",
            "Total params: 101770 (397.54 KB)\n",
            "Trainable params: 101770 (397.54 KB)\n",
            "Non-trainable params: 0 (0.00 Byte)\n",
            "_________________________________________________________________\n"
          ]
        }
      ]
    },
    {
      "cell_type": "code",
      "source": [
        "model_3.fit(train_images, train_labels, epochs=15, validation_data=(val_images, val_labels))\n",
        ""
      ],
      "metadata": {
        "colab": {
          "base_uri": "https://localhost:8080/"
        },
        "id": "muqmPY4BA-h_",
        "outputId": "cfa57ebc-0e94-451b-8b26-431e1fbed7a8"
      },
      "execution_count": 43,
      "outputs": [
        {
          "output_type": "stream",
          "name": "stdout",
          "text": [
            "Epoch 1/15\n",
            "1500/1500 [==============================] - 8s 5ms/step - loss: 0.5246 - accuracy: 0.8132 - val_loss: 0.4402 - val_accuracy: 0.8441\n",
            "Epoch 2/15\n",
            "1500/1500 [==============================] - 6s 4ms/step - loss: 0.3891 - accuracy: 0.8581 - val_loss: 0.3702 - val_accuracy: 0.8687\n",
            "Epoch 3/15\n",
            "1500/1500 [==============================] - 8s 5ms/step - loss: 0.3522 - accuracy: 0.8730 - val_loss: 0.3715 - val_accuracy: 0.8677\n",
            "Epoch 4/15\n",
            "1500/1500 [==============================] - 6s 4ms/step - loss: 0.3321 - accuracy: 0.8820 - val_loss: 0.3399 - val_accuracy: 0.8791\n",
            "Epoch 5/15\n",
            "1500/1500 [==============================] - 8s 5ms/step - loss: 0.3152 - accuracy: 0.8866 - val_loss: 0.3498 - val_accuracy: 0.8774\n",
            "Epoch 6/15\n",
            "1500/1500 [==============================] - 6s 4ms/step - loss: 0.3038 - accuracy: 0.8923 - val_loss: 0.3674 - val_accuracy: 0.8744\n",
            "Epoch 7/15\n",
            "1500/1500 [==============================] - 10s 6ms/step - loss: 0.2943 - accuracy: 0.8971 - val_loss: 0.3655 - val_accuracy: 0.8798\n",
            "Epoch 8/15\n",
            "1500/1500 [==============================] - 6s 4ms/step - loss: 0.2863 - accuracy: 0.8986 - val_loss: 0.3792 - val_accuracy: 0.8810\n",
            "Epoch 9/15\n",
            "1500/1500 [==============================] - 8s 5ms/step - loss: 0.2782 - accuracy: 0.9023 - val_loss: 0.3450 - val_accuracy: 0.8892\n",
            "Epoch 10/15\n",
            "1500/1500 [==============================] - 6s 4ms/step - loss: 0.2705 - accuracy: 0.9046 - val_loss: 0.3723 - val_accuracy: 0.8879\n",
            "Epoch 11/15\n",
            "1500/1500 [==============================] - 7s 5ms/step - loss: 0.2652 - accuracy: 0.9080 - val_loss: 0.3858 - val_accuracy: 0.8849\n",
            "Epoch 12/15\n",
            "1500/1500 [==============================] - 6s 4ms/step - loss: 0.2592 - accuracy: 0.9095 - val_loss: 0.3914 - val_accuracy: 0.8827\n",
            "Epoch 13/15\n",
            "1500/1500 [==============================] - 8s 5ms/step - loss: 0.2554 - accuracy: 0.9114 - val_loss: 0.4035 - val_accuracy: 0.8846\n",
            "Epoch 14/15\n",
            "1500/1500 [==============================] - 6s 4ms/step - loss: 0.2512 - accuracy: 0.9127 - val_loss: 0.3629 - val_accuracy: 0.8865\n",
            "Epoch 15/15\n",
            "1500/1500 [==============================] - 7s 5ms/step - loss: 0.2458 - accuracy: 0.9163 - val_loss: 0.4394 - val_accuracy: 0.8808\n"
          ]
        },
        {
          "output_type": "execute_result",
          "data": {
            "text/plain": [
              "<keras.src.callbacks.History at 0x79e78e4e9d80>"
            ]
          },
          "metadata": {},
          "execution_count": 43
        }
      ]
    },
    {
      "cell_type": "code",
      "source": [
        "test_predictions = model_3.predict(test_images)\n",
        "test_predicted_classes = np.argmax(test_predictions, axis=1)\n",
        "test_true_classes = np.argmax(test_labels, axis=1)\n",
        "test_report = classification_report(test_true_classes, test_predicted_classes)\n",
        "print (test_report)"
      ],
      "metadata": {
        "colab": {
          "base_uri": "https://localhost:8080/"
        },
        "id": "_RPGQBi6A_CD",
        "outputId": "cf9e0f17-7398-4fc9-a1a3-29ccd4fb8f01"
      },
      "execution_count": 44,
      "outputs": [
        {
          "output_type": "stream",
          "name": "stdout",
          "text": [
            "313/313 [==============================] - 1s 2ms/step\n",
            "              precision    recall  f1-score   support\n",
            "\n",
            "           0       0.89      0.72      0.80      1000\n",
            "           1       0.99      0.97      0.98      1000\n",
            "           2       0.76      0.81      0.78      1000\n",
            "           3       0.81      0.94      0.87      1000\n",
            "           4       0.87      0.65      0.74      1000\n",
            "           5       0.96      0.95      0.96      1000\n",
            "           6       0.63      0.78      0.69      1000\n",
            "           7       0.89      0.98      0.93      1000\n",
            "           8       0.98      0.96      0.97      1000\n",
            "           9       0.97      0.91      0.94      1000\n",
            "\n",
            "    accuracy                           0.87     10000\n",
            "   macro avg       0.87      0.87      0.87     10000\n",
            "weighted avg       0.87      0.87      0.87     10000\n",
            "\n"
          ]
        }
      ]
    },
    {
      "cell_type": "code",
      "source": [
        "# Збереження моделі\n",
        "model.save(\"fashion_mnist_model_3.keras\")"
      ],
      "metadata": {
        "id": "twavDU66BKBw"
      },
      "execution_count": 45,
      "outputs": []
    },
    {
      "cell_type": "markdown",
      "source": [
        "## Висновок"
      ],
      "metadata": {
        "id": "OuaeF72BGhzi"
      }
    },
    {
      "cell_type": "markdown",
      "source": [
        "Найкращий результат вийшов при використання декількох повторень шарів згортання і макспулінгу. Кращий оптимізатор був Адам. Кількість епох взяв 15."
      ],
      "metadata": {
        "id": "5CozKp2NGo8n"
      }
    }
  ]
}